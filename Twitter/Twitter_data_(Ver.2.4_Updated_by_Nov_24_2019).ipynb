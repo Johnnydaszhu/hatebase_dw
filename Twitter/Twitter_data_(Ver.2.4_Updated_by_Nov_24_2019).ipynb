{
 "cells": [
  {
   "cell_type": "code",
   "execution_count": 0,
   "metadata": {
    "colab": {},
    "colab_type": "code",
    "id": "8UQumaWyi8yv"
   },
   "outputs": [],
   "source": [
    "import os\n",
    "import tweepy as tw\n",
    "import pandas as pd\n",
    "import json\n",
    "import requests"
   ]
  },
  {
   "cell_type": "code",
   "execution_count": 0,
   "metadata": {
    "colab": {},
    "colab_type": "code",
    "id": "atIxqU23jKBo"
   },
   "outputs": [],
   "source": [
    "with open(\"twitter_credentials.json\", \"r\") as file:\n",
    "    creds = json.load(file)"
   ]
  },
  {
   "cell_type": "code",
   "execution_count": 0,
   "metadata": {
    "colab": {},
    "colab_type": "code",
    "id": "fHBOoaX0jcMb"
   },
   "outputs": [],
   "source": [
    "auth = tw.OAuthHandler(creds['CONSUMER_KEY'], creds['CONSUMER_SECRET'])\n",
    "auth.set_access_token(creds['ACCESS_TOKEN'], creds['ACCESS_SECRET'])\n",
    "api = tw.API(auth, wait_on_rate_limit=True)"
   ]
  },
  {
   "cell_type": "code",
   "execution_count": 0,
   "metadata": {
    "colab": {},
    "colab_type": "code",
    "id": "gPiAutXvjeXc"
   },
   "outputs": [],
   "source": [
    "# Make a defined function to open the URL\n",
    "import requests\n",
    "\n",
    "r = requests.get('https://raw.githubusercontent.com/jeehobdata/hatebase_dw/master/hatebase/terms_2019-11-20.json')"
   ]
  },
  {
   "cell_type": "code",
   "execution_count": 0,
   "metadata": {
    "colab": {},
    "colab_type": "code",
    "id": "s4uBF-bojjOe"
   },
   "outputs": [],
   "source": [
    "result = json.loads(r.text)"
   ]
  },
  {
   "cell_type": "code",
   "execution_count": 7,
   "metadata": {
    "colab": {
     "base_uri": "https://localhost:8080/",
     "height": 417
    },
    "colab_type": "code",
    "executionInfo": {
     "elapsed": 564,
     "status": "ok",
     "timestamp": 1574433631276,
     "user": {
      "displayName": "Jeeho Bae",
      "photoUrl": "",
      "userId": "10144917854878068261"
     },
     "user_tz": 300
    },
    "id": "_j5RPkADjl6t",
    "outputId": "d17c3c9f-eaec-4544-d455-b89176f240d2"
   },
   "outputs": [
    {
     "data": {
      "text/html": [
       "<div>\n",
       "<style scoped>\n",
       "    .dataframe tbody tr th:only-of-type {\n",
       "        vertical-align: middle;\n",
       "    }\n",
       "\n",
       "    .dataframe tbody tr th {\n",
       "        vertical-align: top;\n",
       "    }\n",
       "\n",
       "    .dataframe thead th {\n",
       "        text-align: right;\n",
       "    }\n",
       "</style>\n",
       "<table border=\"1\" class=\"dataframe\">\n",
       "  <thead>\n",
       "    <tr style=\"text-align: right;\">\n",
       "      <th></th>\n",
       "      <th>vocabulary_id</th>\n",
       "      <th>term</th>\n",
       "      <th>hateful_meaning</th>\n",
       "      <th>nonhateful_meaning</th>\n",
       "      <th>is_unambiguous</th>\n",
       "      <th>is_unambiguous_in</th>\n",
       "      <th>average_offensiveness</th>\n",
       "      <th>language</th>\n",
       "      <th>plural_of</th>\n",
       "      <th>variant_of</th>\n",
       "      <th>transliteration_of</th>\n",
       "      <th>is_about_nationality</th>\n",
       "      <th>is_about_ethnicity</th>\n",
       "      <th>is_about_religion</th>\n",
       "      <th>is_about_gender</th>\n",
       "      <th>is_about_sexual_orientation</th>\n",
       "      <th>is_about_disability</th>\n",
       "      <th>is_about_class</th>\n",
       "      <th>number_of_sightings</th>\n",
       "      <th>number_of_sightings_this_year</th>\n",
       "      <th>number_of_sightings_this_month</th>\n",
       "      <th>created_on</th>\n",
       "      <th>updated_on</th>\n",
       "    </tr>\n",
       "  </thead>\n",
       "  <tbody>\n",
       "    <tr>\n",
       "      <th>0</th>\n",
       "      <td>LbWTcqCRU</td>\n",
       "      <td>чернильница</td>\n",
       "      <td>A Caucasian woman who sleeps with dark-skinned...</td>\n",
       "      <td>inkpot</td>\n",
       "      <td>False</td>\n",
       "      <td></td>\n",
       "      <td>NaN</td>\n",
       "      <td>rus</td>\n",
       "      <td>None</td>\n",
       "      <td>None</td>\n",
       "      <td>None</td>\n",
       "      <td>False</td>\n",
       "      <td>True</td>\n",
       "      <td>False</td>\n",
       "      <td>True</td>\n",
       "      <td>False</td>\n",
       "      <td>False</td>\n",
       "      <td>False</td>\n",
       "      <td>13</td>\n",
       "      <td>13</td>\n",
       "      <td>0</td>\n",
       "      <td>2019-10-12 20:34:37</td>\n",
       "      <td>2019-11-04 19:04:23</td>\n",
       "    </tr>\n",
       "    <tr>\n",
       "      <th>1</th>\n",
       "      <td>QgCzdCQBw</td>\n",
       "      <td>kanaka</td>\n",
       "      <td>[1] An offensive term for Pacific Islander [2]...</td>\n",
       "      <td>Kanaka maoli can refer in a non-pejorative sen...</td>\n",
       "      <td>False</td>\n",
       "      <td></td>\n",
       "      <td>91.0</td>\n",
       "      <td>eng</td>\n",
       "      <td>None</td>\n",
       "      <td>None</td>\n",
       "      <td>None</td>\n",
       "      <td>False</td>\n",
       "      <td>True</td>\n",
       "      <td>False</td>\n",
       "      <td>False</td>\n",
       "      <td>False</td>\n",
       "      <td>False</td>\n",
       "      <td>False</td>\n",
       "      <td>19</td>\n",
       "      <td>19</td>\n",
       "      <td>0</td>\n",
       "      <td>2018-11-01 19:42:18</td>\n",
       "      <td>2019-11-01 19:14:03</td>\n",
       "    </tr>\n",
       "    <tr>\n",
       "      <th>2</th>\n",
       "      <td>zzaVUeKA8</td>\n",
       "      <td>cracker</td>\n",
       "      <td>A poor Appalachian or poor Southerner, a white...</td>\n",
       "      <td>[1] Snack [2] Hacker [3] American musical grou...</td>\n",
       "      <td>False</td>\n",
       "      <td></td>\n",
       "      <td>57.0</td>\n",
       "      <td>eng</td>\n",
       "      <td>None</td>\n",
       "      <td>None</td>\n",
       "      <td>None</td>\n",
       "      <td>False</td>\n",
       "      <td>True</td>\n",
       "      <td>False</td>\n",
       "      <td>False</td>\n",
       "      <td>False</td>\n",
       "      <td>False</td>\n",
       "      <td>True</td>\n",
       "      <td>1881</td>\n",
       "      <td>748</td>\n",
       "      <td>3</td>\n",
       "      <td>2013-04-18 17:34:47</td>\n",
       "      <td>2019-10-30 22:57:19</td>\n",
       "    </tr>\n",
       "    <tr>\n",
       "      <th>3</th>\n",
       "      <td>niaHtmNyk</td>\n",
       "      <td>ABCs</td>\n",
       "      <td>[1] American-born Chinese [2] Australian-born ...</td>\n",
       "      <td>Letters of the English alphabet</td>\n",
       "      <td>False</td>\n",
       "      <td></td>\n",
       "      <td>31.0</td>\n",
       "      <td>eng</td>\n",
       "      <td>ABC</td>\n",
       "      <td>None</td>\n",
       "      <td>None</td>\n",
       "      <td>True</td>\n",
       "      <td>True</td>\n",
       "      <td>False</td>\n",
       "      <td>False</td>\n",
       "      <td>False</td>\n",
       "      <td>False</td>\n",
       "      <td>False</td>\n",
       "      <td>0</td>\n",
       "      <td>0</td>\n",
       "      <td>0</td>\n",
       "      <td>2018-11-01 20:33:27</td>\n",
       "      <td>2019-10-30 22:55:46</td>\n",
       "    </tr>\n",
       "    <tr>\n",
       "      <th>4</th>\n",
       "      <td>rnAN2dkU6</td>\n",
       "      <td>ABC</td>\n",
       "      <td>[1] American-born Chinese [2] Australian-born ...</td>\n",
       "      <td>Letters of the English alphabet</td>\n",
       "      <td>False</td>\n",
       "      <td></td>\n",
       "      <td>28.0</td>\n",
       "      <td>eng</td>\n",
       "      <td>None</td>\n",
       "      <td>None</td>\n",
       "      <td>None</td>\n",
       "      <td>True</td>\n",
       "      <td>True</td>\n",
       "      <td>False</td>\n",
       "      <td>False</td>\n",
       "      <td>False</td>\n",
       "      <td>False</td>\n",
       "      <td>False</td>\n",
       "      <td>0</td>\n",
       "      <td>0</td>\n",
       "      <td>0</td>\n",
       "      <td>2013-08-20 18:40:47</td>\n",
       "      <td>2019-10-30 22:55:41</td>\n",
       "    </tr>\n",
       "  </tbody>\n",
       "</table>\n",
       "</div>"
      ],
      "text/plain": [
       "  vocabulary_id         term  ...           created_on           updated_on\n",
       "0     LbWTcqCRU  чернильница  ...  2019-10-12 20:34:37  2019-11-04 19:04:23\n",
       "1     QgCzdCQBw       kanaka  ...  2018-11-01 19:42:18  2019-11-01 19:14:03\n",
       "2     zzaVUeKA8      cracker  ...  2013-04-18 17:34:47  2019-10-30 22:57:19\n",
       "3     niaHtmNyk         ABCs  ...  2018-11-01 20:33:27  2019-10-30 22:55:46\n",
       "4     rnAN2dkU6          ABC  ...  2013-08-20 18:40:47  2019-10-30 22:55:41\n",
       "\n",
       "[5 rows x 23 columns]"
      ]
     },
     "execution_count": 7,
     "metadata": {
      "tags": []
     },
     "output_type": "execute_result"
    }
   ],
   "source": [
    "terms_df = pd.DataFrame(result)\n",
    "terms_df.head()"
   ]
  },
  {
   "cell_type": "code",
   "execution_count": 8,
   "metadata": {
    "colab": {
     "base_uri": "https://localhost:8080/",
     "height": 34
    },
    "colab_type": "code",
    "executionInfo": {
     "elapsed": 1191,
     "status": "ok",
     "timestamp": 1574433642598,
     "user": {
      "displayName": "Jeeho Bae",
      "photoUrl": "",
      "userId": "10144917854878068261"
     },
     "user_tz": 300
    },
    "id": "JgX_ONMRjql7",
    "outputId": "69fedced-f69c-4818-c96a-9d48037c3acb"
   },
   "outputs": [
    {
     "data": {
      "text/plain": [
       "3633"
      ]
     },
     "execution_count": 8,
     "metadata": {
      "tags": []
     },
     "output_type": "execute_result"
    }
   ],
   "source": [
    "len(result)"
   ]
  },
  {
   "cell_type": "code",
   "execution_count": 0,
   "metadata": {
    "colab": {},
    "colab_type": "code",
    "id": "vPtjLXn2jtMh"
   },
   "outputs": [],
   "source": [
    "#Pullout only the hate term variables\n",
    "hateterms = terms_df['term']\n",
    "\n",
    "#Add hash tags\n",
    "hateterms =  '#' + hateterms.astype(str)\n",
    "\n",
    "# Change the datatype of hateterms from a series to a list\n",
    "hateterms_1 = hateterms.values.tolist()"
   ]
  },
  {
   "cell_type": "code",
   "execution_count": 10,
   "metadata": {
    "colab": {
     "base_uri": "https://localhost:8080/",
     "height": 367
    },
    "colab_type": "code",
    "executionInfo": {
     "elapsed": 405886,
     "status": "error",
     "timestamp": 1574455063318,
     "user": {
      "displayName": "Jeeho Bae",
      "photoUrl": "",
      "userId": "10144917854878068261"
     },
     "user_tz": 300
    },
    "id": "sTkMrtoJjxMv",
    "outputId": "544c1b02-1fa5-4e70-c2f6-7c11d87af767"
   },
   "outputs": [
    {
     "ename": "KeyboardInterrupt",
     "evalue": "ignored",
     "output_type": "error",
     "traceback": [
      "\u001b[0;31m---------------------------------------------------------------------------\u001b[0m",
      "\u001b[0;31mKeyboardInterrupt\u001b[0m                         Traceback (most recent call last)",
      "\u001b[0;32m<ipython-input-10-3e2eeb800249>\u001b[0m in \u001b[0;36m<module>\u001b[0;34m()\u001b[0m\n\u001b[1;32m      6\u001b[0m     for tweet in tw.Cursor(api.search,\n\u001b[1;32m      7\u001b[0m                        \u001b[0mq\u001b[0m \u001b[0;34m=\u001b[0m \u001b[0mi\u001b[0m\u001b[0;34m,\u001b[0m\u001b[0;34m\u001b[0m\u001b[0;34m\u001b[0m\u001b[0m\n\u001b[0;32m----> 8\u001b[0;31m                        since = date_since).items(10): \n\u001b[0m\u001b[1;32m      9\u001b[0m         \u001b[0mresults\u001b[0m\u001b[0;34m.\u001b[0m\u001b[0mappend\u001b[0m\u001b[0;34m(\u001b[0m\u001b[0mtweet\u001b[0m\u001b[0;34m)\u001b[0m\u001b[0;34m\u001b[0m\u001b[0;34m\u001b[0m\u001b[0m\n",
      "\u001b[0;32m/usr/local/lib/python3.6/dist-packages/tweepy/cursor.py\u001b[0m in \u001b[0;36m__next__\u001b[0;34m(self)\u001b[0m\n\u001b[1;32m     47\u001b[0m \u001b[0;34m\u001b[0m\u001b[0m\n\u001b[1;32m     48\u001b[0m     \u001b[0;32mdef\u001b[0m \u001b[0m__next__\u001b[0m\u001b[0;34m(\u001b[0m\u001b[0mself\u001b[0m\u001b[0;34m)\u001b[0m\u001b[0;34m:\u001b[0m\u001b[0;34m\u001b[0m\u001b[0;34m\u001b[0m\u001b[0m\n\u001b[0;32m---> 49\u001b[0;31m         \u001b[0;32mreturn\u001b[0m \u001b[0mself\u001b[0m\u001b[0;34m.\u001b[0m\u001b[0mnext\u001b[0m\u001b[0;34m(\u001b[0m\u001b[0;34m)\u001b[0m\u001b[0;34m\u001b[0m\u001b[0;34m\u001b[0m\u001b[0m\n\u001b[0m\u001b[1;32m     50\u001b[0m \u001b[0;34m\u001b[0m\u001b[0m\n\u001b[1;32m     51\u001b[0m     \u001b[0;32mdef\u001b[0m \u001b[0mnext\u001b[0m\u001b[0;34m(\u001b[0m\u001b[0mself\u001b[0m\u001b[0;34m)\u001b[0m\u001b[0;34m:\u001b[0m\u001b[0;34m\u001b[0m\u001b[0;34m\u001b[0m\u001b[0m\n",
      "\u001b[0;32m/usr/local/lib/python3.6/dist-packages/tweepy/cursor.py\u001b[0m in \u001b[0;36mnext\u001b[0;34m(self)\u001b[0m\n\u001b[1;32m    195\u001b[0m         \u001b[0;32mif\u001b[0m \u001b[0mself\u001b[0m\u001b[0;34m.\u001b[0m\u001b[0mcurrent_page\u001b[0m \u001b[0;32mis\u001b[0m \u001b[0;32mNone\u001b[0m \u001b[0;32mor\u001b[0m \u001b[0mself\u001b[0m\u001b[0;34m.\u001b[0m\u001b[0mpage_index\u001b[0m \u001b[0;34m==\u001b[0m \u001b[0mlen\u001b[0m\u001b[0;34m(\u001b[0m\u001b[0mself\u001b[0m\u001b[0;34m.\u001b[0m\u001b[0mcurrent_page\u001b[0m\u001b[0;34m)\u001b[0m \u001b[0;34m-\u001b[0m \u001b[0;36m1\u001b[0m\u001b[0;34m:\u001b[0m\u001b[0;34m\u001b[0m\u001b[0;34m\u001b[0m\u001b[0m\n\u001b[1;32m    196\u001b[0m             \u001b[0;31m# Reached end of current page, get the next page...\u001b[0m\u001b[0;34m\u001b[0m\u001b[0;34m\u001b[0m\u001b[0;34m\u001b[0m\u001b[0m\n\u001b[0;32m--> 197\u001b[0;31m             \u001b[0mself\u001b[0m\u001b[0;34m.\u001b[0m\u001b[0mcurrent_page\u001b[0m \u001b[0;34m=\u001b[0m \u001b[0mself\u001b[0m\u001b[0;34m.\u001b[0m\u001b[0mpage_iterator\u001b[0m\u001b[0;34m.\u001b[0m\u001b[0mnext\u001b[0m\u001b[0;34m(\u001b[0m\u001b[0;34m)\u001b[0m\u001b[0;34m\u001b[0m\u001b[0;34m\u001b[0m\u001b[0m\n\u001b[0m\u001b[1;32m    198\u001b[0m             \u001b[0mself\u001b[0m\u001b[0;34m.\u001b[0m\u001b[0mpage_index\u001b[0m \u001b[0;34m=\u001b[0m \u001b[0;34m-\u001b[0m\u001b[0;36m1\u001b[0m\u001b[0;34m\u001b[0m\u001b[0;34m\u001b[0m\u001b[0m\n\u001b[1;32m    199\u001b[0m         \u001b[0mself\u001b[0m\u001b[0;34m.\u001b[0m\u001b[0mpage_index\u001b[0m \u001b[0;34m+=\u001b[0m \u001b[0;36m1\u001b[0m\u001b[0;34m\u001b[0m\u001b[0;34m\u001b[0m\u001b[0m\n",
      "\u001b[0;32m/usr/local/lib/python3.6/dist-packages/tweepy/cursor.py\u001b[0m in \u001b[0;36mnext\u001b[0;34m(self)\u001b[0m\n\u001b[1;32m    106\u001b[0m \u001b[0;34m\u001b[0m\u001b[0m\n\u001b[1;32m    107\u001b[0m         \u001b[0;32mif\u001b[0m \u001b[0mself\u001b[0m\u001b[0;34m.\u001b[0m\u001b[0mindex\u001b[0m \u001b[0;34m>=\u001b[0m \u001b[0mlen\u001b[0m\u001b[0;34m(\u001b[0m\u001b[0mself\u001b[0m\u001b[0;34m.\u001b[0m\u001b[0mresults\u001b[0m\u001b[0;34m)\u001b[0m \u001b[0;34m-\u001b[0m \u001b[0;36m1\u001b[0m\u001b[0;34m:\u001b[0m\u001b[0;34m\u001b[0m\u001b[0;34m\u001b[0m\u001b[0m\n\u001b[0;32m--> 108\u001b[0;31m             \u001b[0mdata\u001b[0m \u001b[0;34m=\u001b[0m \u001b[0mself\u001b[0m\u001b[0;34m.\u001b[0m\u001b[0mmethod\u001b[0m\u001b[0;34m(\u001b[0m\u001b[0mmax_id\u001b[0m\u001b[0;34m=\u001b[0m\u001b[0mself\u001b[0m\u001b[0;34m.\u001b[0m\u001b[0mmax_id\u001b[0m\u001b[0;34m,\u001b[0m \u001b[0mparser\u001b[0m\u001b[0;34m=\u001b[0m\u001b[0mRawParser\u001b[0m\u001b[0;34m(\u001b[0m\u001b[0;34m)\u001b[0m\u001b[0;34m,\u001b[0m \u001b[0;34m*\u001b[0m\u001b[0mself\u001b[0m\u001b[0;34m.\u001b[0m\u001b[0margs\u001b[0m\u001b[0;34m,\u001b[0m \u001b[0;34m**\u001b[0m\u001b[0mself\u001b[0m\u001b[0;34m.\u001b[0m\u001b[0mkargs\u001b[0m\u001b[0;34m)\u001b[0m\u001b[0;34m\u001b[0m\u001b[0;34m\u001b[0m\u001b[0m\n\u001b[0m\u001b[1;32m    109\u001b[0m \u001b[0;34m\u001b[0m\u001b[0m\n\u001b[1;32m    110\u001b[0m             \u001b[0;32mif\u001b[0m \u001b[0mhasattr\u001b[0m\u001b[0;34m(\u001b[0m\u001b[0mself\u001b[0m\u001b[0;34m.\u001b[0m\u001b[0mmethod\u001b[0m\u001b[0;34m,\u001b[0m \u001b[0;34m'__self__'\u001b[0m\u001b[0;34m)\u001b[0m\u001b[0;34m:\u001b[0m\u001b[0;34m\u001b[0m\u001b[0;34m\u001b[0m\u001b[0m\n",
      "\u001b[0;32m/usr/local/lib/python3.6/dist-packages/tweepy/binder.py\u001b[0m in \u001b[0;36m_call\u001b[0;34m(*args, **kwargs)\u001b[0m\n\u001b[1;32m    248\u001b[0m             \u001b[0;32mreturn\u001b[0m \u001b[0mmethod\u001b[0m\u001b[0;34m\u001b[0m\u001b[0;34m\u001b[0m\u001b[0m\n\u001b[1;32m    249\u001b[0m         \u001b[0;32melse\u001b[0m\u001b[0;34m:\u001b[0m\u001b[0;34m\u001b[0m\u001b[0;34m\u001b[0m\u001b[0m\n\u001b[0;32m--> 250\u001b[0;31m             \u001b[0;32mreturn\u001b[0m \u001b[0mmethod\u001b[0m\u001b[0;34m.\u001b[0m\u001b[0mexecute\u001b[0m\u001b[0;34m(\u001b[0m\u001b[0;34m)\u001b[0m\u001b[0;34m\u001b[0m\u001b[0;34m\u001b[0m\u001b[0m\n\u001b[0m\u001b[1;32m    251\u001b[0m \u001b[0;34m\u001b[0m\u001b[0m\n\u001b[1;32m    252\u001b[0m     \u001b[0;31m# Set pagination mode\u001b[0m\u001b[0;34m\u001b[0m\u001b[0;34m\u001b[0m\u001b[0;34m\u001b[0m\u001b[0m\n",
      "\u001b[0;32m/usr/local/lib/python3.6/dist-packages/tweepy/binder.py\u001b[0m in \u001b[0;36mexecute\u001b[0;34m(self)\u001b[0m\n\u001b[1;32m    162\u001b[0m                                     \u001b[0;32mif\u001b[0m \u001b[0mself\u001b[0m\u001b[0;34m.\u001b[0m\u001b[0mwait_on_rate_limit_notify\u001b[0m\u001b[0;34m:\u001b[0m\u001b[0;34m\u001b[0m\u001b[0;34m\u001b[0m\u001b[0m\n\u001b[1;32m    163\u001b[0m                                         \u001b[0mlog\u001b[0m\u001b[0;34m.\u001b[0m\u001b[0mwarning\u001b[0m\u001b[0;34m(\u001b[0m\u001b[0;34m\"Rate limit reached. Sleeping for: %d\"\u001b[0m \u001b[0;34m%\u001b[0m \u001b[0msleep_time\u001b[0m\u001b[0;34m)\u001b[0m\u001b[0;34m\u001b[0m\u001b[0;34m\u001b[0m\u001b[0m\n\u001b[0;32m--> 164\u001b[0;31m                                     \u001b[0mtime\u001b[0m\u001b[0;34m.\u001b[0m\u001b[0msleep\u001b[0m\u001b[0;34m(\u001b[0m\u001b[0msleep_time\u001b[0m \u001b[0;34m+\u001b[0m \u001b[0;36m5\u001b[0m\u001b[0;34m)\u001b[0m  \u001b[0;31m# sleep for few extra sec\u001b[0m\u001b[0;34m\u001b[0m\u001b[0;34m\u001b[0m\u001b[0m\n\u001b[0m\u001b[1;32m    165\u001b[0m \u001b[0;34m\u001b[0m\u001b[0m\n\u001b[1;32m    166\u001b[0m                 \u001b[0;31m# if self.wait_on_rate_limit and self._reset_time is not None and \\\u001b[0m\u001b[0;34m\u001b[0m\u001b[0;34m\u001b[0m\u001b[0;34m\u001b[0m\u001b[0m\n",
      "\u001b[0;31mKeyboardInterrupt\u001b[0m: "
     ]
    }
   ],
   "source": [
    "# Use For loop function  \n",
    "search_words = hateterms_1\n",
    "date_since = '2019-10-22'\n",
    "\n",
    "results = [] \n",
    "for i in hateterms_1:\n",
    "    for tweet in tw.Cursor(api.search,\n",
    "                       q = i,\n",
    "                       since = date_since).items(10): \n",
    "        results.append(tweet)     "
   ]
  },
  {
   "cell_type": "code",
   "execution_count": 11,
   "metadata": {
    "colab": {
     "base_uri": "https://localhost:8080/",
     "height": 34
    },
    "colab_type": "code",
    "executionInfo": {
     "elapsed": 1311,
     "status": "ok",
     "timestamp": 1574455086015,
     "user": {
      "displayName": "Jeeho Bae",
      "photoUrl": "",
      "userId": "10144917854878068261"
     },
     "user_tz": 300
    },
    "id": "csSzpSHDkFZB",
    "outputId": "bedf05c8-cc41-451b-aaa2-ad30594cab63"
   },
   "outputs": [
    {
     "data": {
      "text/plain": [
       "9088"
      ]
     },
     "execution_count": 11,
     "metadata": {
      "tags": []
     },
     "output_type": "execute_result"
    }
   ],
   "source": [
    "len(results)"
   ]
  },
  {
   "cell_type": "code",
   "execution_count": 0,
   "metadata": {
    "colab": {},
    "colab_type": "code",
    "id": "-PsU4lV54lG8"
   },
   "outputs": [],
   "source": [
    "def process_results(results):\n",
    "    id_list = [tweet.id for tweet in results]\n",
    "    data_set = pd.DataFrame(id_list, columns=['id'])\n",
    "    \n",
    "    #processing Tweet Data\n",
    "    \n",
    "    data_set[\"text\"] = [tweet.text for tweet in results]\n",
    "    data_set[\"created_at \"] = [tweet.created_at for tweet in results]\n",
    "    data_set[\"retweet_count\"] = [tweet.retweet_count for tweet in results]\n",
    "    data_set[\"favorite_count\"] = [tweet.favorite_count for tweet in results]\n",
    "    data_set[\"source\"] = [tweet.source for tweet in results]\n",
    "    \n",
    "    #Processing User Data\n",
    "    data_set[\"user_id\"] = [tweet.author.id for tweet in results]\n",
    "    data_set[\"screen_name\"] = [tweet.author.screen_name for tweet in results]\n",
    "    data_set[\"name\"] = [tweet.author.name for tweet in results]\n",
    "    data_set[\"created_at\"] = [tweet.author.created_at for tweet in results]\n",
    "    data_set[\"user_description\"] = [tweet.author.description for tweet in results]\n",
    "    data_set[\"user_location\"] = [tweet.author.location for tweet in results]\n",
    "    \n",
    "    return data_set\n",
    "\n",
    "data_set = process_results(results)"
   ]
  },
  {
   "cell_type": "code",
   "execution_count": 13,
   "metadata": {
    "colab": {
     "base_uri": "https://localhost:8080/",
     "height": 568
    },
    "colab_type": "code",
    "executionInfo": {
     "elapsed": 1260,
     "status": "ok",
     "timestamp": 1574455905721,
     "user": {
      "displayName": "Jeeho Bae",
      "photoUrl": "",
      "userId": "10144917854878068261"
     },
     "user_tz": 300
    },
    "id": "6svJuoi34l-L",
    "outputId": "e916be86-6cbc-4bb5-f647-0ccaff8db4b3"
   },
   "outputs": [
    {
     "data": {
      "text/html": [
       "<div>\n",
       "<style scoped>\n",
       "    .dataframe tbody tr th:only-of-type {\n",
       "        vertical-align: middle;\n",
       "    }\n",
       "\n",
       "    .dataframe tbody tr th {\n",
       "        vertical-align: top;\n",
       "    }\n",
       "\n",
       "    .dataframe thead th {\n",
       "        text-align: right;\n",
       "    }\n",
       "</style>\n",
       "<table border=\"1\" class=\"dataframe\">\n",
       "  <thead>\n",
       "    <tr style=\"text-align: right;\">\n",
       "      <th></th>\n",
       "      <th>id</th>\n",
       "      <th>text</th>\n",
       "      <th>created_at</th>\n",
       "      <th>retweet_count</th>\n",
       "      <th>favorite_count</th>\n",
       "      <th>source</th>\n",
       "      <th>user_id</th>\n",
       "      <th>screen_name</th>\n",
       "      <th>name</th>\n",
       "      <th>created_at</th>\n",
       "      <th>user_description</th>\n",
       "      <th>user_location</th>\n",
       "    </tr>\n",
       "  </thead>\n",
       "  <tbody>\n",
       "    <tr>\n",
       "      <th>0</th>\n",
       "      <td>1197467358551400449</td>\n",
       "      <td>We keep learning tips and techniques for an ef...</td>\n",
       "      <td>2019-11-21 10:50:40</td>\n",
       "      <td>0</td>\n",
       "      <td>0</td>\n",
       "      <td>Zoho Social</td>\n",
       "      <td>74646104</td>\n",
       "      <td>Recruise</td>\n",
       "      <td>Recruise India Consulting</td>\n",
       "      <td>2009-09-16 03:52:51</td>\n",
       "      <td>#Recruise #HRconsulting provides #recruitment ...</td>\n",
       "      <td>Bangalore</td>\n",
       "    </tr>\n",
       "    <tr>\n",
       "      <th>1</th>\n",
       "      <td>1197447477420384256</td>\n",
       "      <td>RT @sujithneeth: #Vijay65 - இது விஜய்க்கு மட்ட...</td>\n",
       "      <td>2019-11-21 09:31:40</td>\n",
       "      <td>1</td>\n",
       "      <td>0</td>\n",
       "      <td>Twitter for Android</td>\n",
       "      <td>1048183477789544449</td>\n",
       "      <td>sriramvathsan7</td>\n",
       "      <td>Sriramvathsan</td>\n",
       "      <td>2018-10-05 12:09:50</td>\n",
       "      <td>Studying in PSNACET.\\nThalapathy fan.</td>\n",
       "      <td></td>\n",
       "    </tr>\n",
       "    <tr>\n",
       "      <th>2</th>\n",
       "      <td>1197272281451565061</td>\n",
       "      <td>#Repost iolaniadams\\n• • • • • •\\nWaiāhole Str...</td>\n",
       "      <td>2019-11-20 21:55:30</td>\n",
       "      <td>0</td>\n",
       "      <td>0</td>\n",
       "      <td>Instagram</td>\n",
       "      <td>1047263932698648577</td>\n",
       "      <td>Aohe_Mea</td>\n",
       "      <td>ʻAʻohe Mea</td>\n",
       "      <td>2018-10-02 23:15:53</td>\n",
       "      <td>https://t.co/W2BFdyR3vE | #UBI 50%PerCapitaGDP...</td>\n",
       "      <td>#AWorldThatWorksForEveryone 🌏</td>\n",
       "    </tr>\n",
       "    <tr>\n",
       "      <th>3</th>\n",
       "      <td>1197257302165749760</td>\n",
       "      <td>#FreeHawaii \\nQuit arresting #kanaka\\n💔💔💔💔💔💔💔💔...</td>\n",
       "      <td>2019-11-20 20:55:59</td>\n",
       "      <td>0</td>\n",
       "      <td>0</td>\n",
       "      <td>Twitter for Android</td>\n",
       "      <td>3261789056</td>\n",
       "      <td>stonergrandma</td>\n",
       "      <td>🌺OccupyPeace🕊 #ProtectMaunaKea 🌺</td>\n",
       "      <td>2015-06-30 17:22:42</td>\n",
       "      <td>#ResistingHate 🙌🏼 #cannabis  💜#WeAreMaunaKea  ...</td>\n",
       "      <td>Cascadia/Kauai</td>\n",
       "    </tr>\n",
       "    <tr>\n",
       "      <th>4</th>\n",
       "      <td>1196961497219395585</td>\n",
       "      <td>Books on #Kanaka Maoli (Native #Hawaiians) who...</td>\n",
       "      <td>2019-11-20 01:20:34</td>\n",
       "      <td>0</td>\n",
       "      <td>0</td>\n",
       "      <td>Twitter Web App</td>\n",
       "      <td>156819077</td>\n",
       "      <td>KawikaGuillermo</td>\n",
       "      <td>Kawika Guillermo [Dr. Chris P]</td>\n",
       "      <td>2010-06-18 01:17:24</td>\n",
       "      <td>I wrote the novel STAMPED and the academic boo...</td>\n",
       "      <td>Vancouver, British Columbia</td>\n",
       "    </tr>\n",
       "  </tbody>\n",
       "</table>\n",
       "</div>"
      ],
      "text/plain": [
       "                    id  ...                  user_location\n",
       "0  1197467358551400449  ...                      Bangalore\n",
       "1  1197447477420384256  ...                               \n",
       "2  1197272281451565061  ...  #AWorldThatWorksForEveryone 🌏\n",
       "3  1197257302165749760  ...                 Cascadia/Kauai\n",
       "4  1196961497219395585  ...    Vancouver, British Columbia\n",
       "\n",
       "[5 rows x 12 columns]"
      ]
     },
     "execution_count": 13,
     "metadata": {
      "tags": []
     },
     "output_type": "execute_result"
    }
   ],
   "source": [
    "data_set.head()"
   ]
  },
  {
   "cell_type": "code",
   "execution_count": 14,
   "metadata": {
    "colab": {
     "base_uri": "https://localhost:8080/",
     "height": 501
    },
    "colab_type": "code",
    "executionInfo": {
     "elapsed": 1231,
     "status": "ok",
     "timestamp": 1574455917483,
     "user": {
      "displayName": "Jeeho Bae",
      "photoUrl": "",
      "userId": "10144917854878068261"
     },
     "user_tz": 300
    },
    "id": "asxa3prk4og6",
    "outputId": "3f94d23c-fbe1-4e99-d7eb-5f874b340c89"
   },
   "outputs": [
    {
     "data": {
      "text/html": [
       "<div>\n",
       "<style scoped>\n",
       "    .dataframe tbody tr th:only-of-type {\n",
       "        vertical-align: middle;\n",
       "    }\n",
       "\n",
       "    .dataframe tbody tr th {\n",
       "        vertical-align: top;\n",
       "    }\n",
       "\n",
       "    .dataframe thead th {\n",
       "        text-align: right;\n",
       "    }\n",
       "</style>\n",
       "<table border=\"1\" class=\"dataframe\">\n",
       "  <thead>\n",
       "    <tr style=\"text-align: right;\">\n",
       "      <th></th>\n",
       "      <th>id</th>\n",
       "      <th>text</th>\n",
       "      <th>created_at</th>\n",
       "      <th>retweet_count</th>\n",
       "      <th>favorite_count</th>\n",
       "      <th>source</th>\n",
       "      <th>user_id</th>\n",
       "      <th>screen_name</th>\n",
       "      <th>name</th>\n",
       "      <th>created_at</th>\n",
       "      <th>user_description</th>\n",
       "      <th>user_location</th>\n",
       "    </tr>\n",
       "  </thead>\n",
       "  <tbody>\n",
       "    <tr>\n",
       "      <th>9083</th>\n",
       "      <td>1197930549798719488</td>\n",
       "      <td>Cut Life Experience with • @adusalon Chop Sess...</td>\n",
       "      <td>2019-11-22 17:31:14</td>\n",
       "      <td>0</td>\n",
       "      <td>0</td>\n",
       "      <td>Instagram</td>\n",
       "      <td>18351472</td>\n",
       "      <td>adusalon</td>\n",
       "      <td>All Dolled Up Salons</td>\n",
       "      <td>2008-12-24 05:05:51</td>\n",
       "      <td>South Florida's Top Black Hair Salon:! We love...</td>\n",
       "      <td>ÜT: 26.288387,-80.273787</td>\n",
       "    </tr>\n",
       "    <tr>\n",
       "      <th>9084</th>\n",
       "      <td>1197921968399568898</td>\n",
       "      <td>Oh well, suddenly this drawing turned out real...</td>\n",
       "      <td>2019-11-22 16:57:08</td>\n",
       "      <td>2</td>\n",
       "      <td>3</td>\n",
       "      <td>Twitter Web App</td>\n",
       "      <td>1040033508775878656</td>\n",
       "      <td>MidinhaGoldUwU</td>\n",
       "      <td>Midas Gold</td>\n",
       "      <td>2018-09-13 00:24:46</td>\n",
       "      <td>Programmer / PC Gamer/ Demisexual / Pretty fur...</td>\n",
       "      <td>Sao Paulo, Brazil</td>\n",
       "    </tr>\n",
       "    <tr>\n",
       "      <th>9085</th>\n",
       "      <td>1197900764120854533</td>\n",
       "      <td>RT @misty79182580: #oc #Sena #friendsOc #Rinu ...</td>\n",
       "      <td>2019-11-22 15:32:52</td>\n",
       "      <td>36</td>\n",
       "      <td>0</td>\n",
       "      <td>Twitter for Android</td>\n",
       "      <td>713973435655974913</td>\n",
       "      <td>Krbs614955</td>\n",
       "      <td>Kbennett</td>\n",
       "      <td>2016-03-27 06:18:26</td>\n",
       "      <td>21, gamer, artist, YouTuber? #Sonic #DragonBal...</td>\n",
       "      <td>Massachusetts, USA</td>\n",
       "    </tr>\n",
       "    <tr>\n",
       "      <th>9086</th>\n",
       "      <td>1197899205349691394</td>\n",
       "      <td>RT @misty79182580: #oc #Sena #friendsOc #Rinu ...</td>\n",
       "      <td>2019-11-22 15:26:41</td>\n",
       "      <td>36</td>\n",
       "      <td>0</td>\n",
       "      <td>Twitter for iPhone</td>\n",
       "      <td>535948128</td>\n",
       "      <td>Monsterking97</td>\n",
       "      <td>The Monster king97</td>\n",
       "      <td>2012-03-25 00:52:35</td>\n",
       "      <td>I draw stuff, profile pic by @kenivart</td>\n",
       "      <td>In Space.</td>\n",
       "    </tr>\n",
       "    <tr>\n",
       "      <th>9087</th>\n",
       "      <td>1197894976803262464</td>\n",
       "      <td>RT @misty79182580: #ocs #Sena #Rena #twins #si...</td>\n",
       "      <td>2019-11-22 15:09:52</td>\n",
       "      <td>56</td>\n",
       "      <td>0</td>\n",
       "      <td>Twitter for Android</td>\n",
       "      <td>1092888423755444226</td>\n",
       "      <td>TheHunterKrieza</td>\n",
       "      <td>Krieza, The Hunter</td>\n",
       "      <td>2019-02-05 20:51:19</td>\n",
       "      <td>Father: @Culture_SAO\\nKrieza, The Hunter=💙\\nCa...</td>\n",
       "      <td></td>\n",
       "    </tr>\n",
       "  </tbody>\n",
       "</table>\n",
       "</div>"
      ],
      "text/plain": [
       "                       id  ...             user_location\n",
       "9083  1197930549798719488  ...  ÜT: 26.288387,-80.273787\n",
       "9084  1197921968399568898  ...         Sao Paulo, Brazil\n",
       "9085  1197900764120854533  ...        Massachusetts, USA\n",
       "9086  1197899205349691394  ...                 In Space.\n",
       "9087  1197894976803262464  ...                          \n",
       "\n",
       "[5 rows x 12 columns]"
      ]
     },
     "execution_count": 14,
     "metadata": {
      "tags": []
     },
     "output_type": "execute_result"
    }
   ],
   "source": [
    "data_set.tail()"
   ]
  },
  {
   "cell_type": "code",
   "execution_count": 15,
   "metadata": {
    "colab": {
     "base_uri": "https://localhost:8080/",
     "height": 54,
     "output_embedded_package_id": "1J3cTIUTbcNa0fRlYUumQe3iuy_UzZkO2"
    },
    "colab_type": "code",
    "executionInfo": {
     "elapsed": 8937,
     "status": "ok",
     "timestamp": 1574456028746,
     "user": {
      "displayName": "Jeeho Bae",
      "photoUrl": "",
      "userId": "10144917854878068261"
     },
     "user_tz": 300
    },
    "id": "-roaHlcT4rZO",
    "outputId": "1e48aba5-ee6d-4200-cc8c-91c9d2ac097e"
   },
   "outputs": [
    {
     "data": {
      "text/plain": [
       "Output hidden; open in https://colab.research.google.com to view."
      ]
     },
     "metadata": {},
     "output_type": "display_data"
    }
   ],
   "source": [
    "data_set.to_csv(index=False)"
   ]
  },
  {
   "cell_type": "code",
   "execution_count": 16,
   "metadata": {
    "colab": {
     "base_uri": "https://localhost:8080/",
     "height": 125
    },
    "colab_type": "code",
    "executionInfo": {
     "elapsed": 52444,
     "status": "ok",
     "timestamp": 1574456153166,
     "user": {
      "displayName": "Jeeho Bae",
      "photoUrl": "",
      "userId": "10144917854878068261"
     },
     "user_tz": 300
    },
    "id": "Ytt-3W4C5EqI",
    "outputId": "b920e0a4-115f-433a-d8b5-a5bb0d0d3492"
   },
   "outputs": [
    {
     "name": "stdout",
     "output_type": "stream",
     "text": [
      "Go to this URL in a browser: https://accounts.google.com/o/oauth2/auth?client_id=947318989803-6bn6qk8qdgf4n4g3pfee6491hc0brc4i.apps.googleusercontent.com&redirect_uri=urn%3aietf%3awg%3aoauth%3a2.0%3aoob&response_type=code&scope=email%20https%3a%2f%2fwww.googleapis.com%2fauth%2fdocs.test%20https%3a%2f%2fwww.googleapis.com%2fauth%2fdrive%20https%3a%2f%2fwww.googleapis.com%2fauth%2fdrive.photos.readonly%20https%3a%2f%2fwww.googleapis.com%2fauth%2fpeopleapi.readonly\n",
      "\n",
      "Enter your authorization code:\n",
      "··········\n",
      "Mounted at drive\n"
     ]
    }
   ],
   "source": [
    "from google.colab import drive\n",
    "drive.mount('drive')"
   ]
  },
  {
   "cell_type": "code",
   "execution_count": 0,
   "metadata": {
    "colab": {},
    "colab_type": "code",
    "id": "ZlBGeoYy5YZk"
   },
   "outputs": [],
   "source": [
    "from google.colab import files\n",
    "data_set.to_csv('tw_data_set.csv') \n",
    "files.download('tw_data_set.csv')"
   ]
  },
  {
   "cell_type": "code",
   "execution_count": 0,
   "metadata": {
    "colab": {},
    "colab_type": "code",
    "id": "3M4vtPKQ54C_"
   },
   "outputs": [],
   "source": []
  }
 ],
 "metadata": {
  "accelerator": "GPU",
  "colab": {
   "collapsed_sections": [],
   "name": "Untitled0.ipynb",
   "provenance": []
  },
  "kernelspec": {
   "display_name": "Python 3",
   "language": "python",
   "name": "python3"
  },
  "language_info": {
   "codemirror_mode": {
    "name": "ipython",
    "version": 3
   },
   "file_extension": ".py",
   "mimetype": "text/x-python",
   "name": "python",
   "nbconvert_exporter": "python",
   "pygments_lexer": "ipython3",
   "version": "3.6.9"
  }
 },
 "nbformat": 4,
 "nbformat_minor": 1
}
